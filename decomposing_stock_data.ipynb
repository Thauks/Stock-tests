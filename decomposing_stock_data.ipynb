{
 "cells": [
  {
   "cell_type": "code",
   "execution_count": 1,
   "metadata": {},
   "outputs": [
    {
     "name": "stderr",
     "output_type": "stream",
     "text": [
      "c:\\users\\mestr\\appdata\\local\\programs\\python\\python38\\lib\\site-packages\\statsmodels\\tools\\_testing.py:19: FutureWarning: pandas.util.testing is deprecated. Use the functions in the public API at pandas.testing instead.\n",
      "  import pandas.util.testing as tm\n"
     ]
    }
   ],
   "source": [
    "import pandas as pd\n",
    "import numpy as np\n",
    "import matplotlib.pyplot as plt\n",
    "from statsmodels.tsa.seasonal import seasonal_decompose"
   ]
  },
  {
   "cell_type": "code",
   "execution_count": 2,
   "metadata": {},
   "outputs": [],
   "source": [
    "sab = pd.read_csv('./sabe2015.csv', sep=',', decimal=',')"
   ]
  },
  {
   "cell_type": "code",
   "execution_count": 3,
   "metadata": {},
   "outputs": [],
   "source": [
    "sab['Fecha'] = pd.to_datetime(sab['Fecha'], format = '%d.%m.%Y')"
   ]
  },
  {
   "cell_type": "code",
   "execution_count": 4,
   "metadata": {},
   "outputs": [
    {
     "data": {
      "text/html": [
       "<div>\n",
       "<style scoped>\n",
       "    .dataframe tbody tr th:only-of-type {\n",
       "        vertical-align: middle;\n",
       "    }\n",
       "\n",
       "    .dataframe tbody tr th {\n",
       "        vertical-align: top;\n",
       "    }\n",
       "\n",
       "    .dataframe thead th {\n",
       "        text-align: right;\n",
       "    }\n",
       "</style>\n",
       "<table border=\"1\" class=\"dataframe\">\n",
       "  <thead>\n",
       "    <tr style=\"text-align: right;\">\n",
       "      <th></th>\n",
       "      <th>Fecha</th>\n",
       "      <th>Último</th>\n",
       "      <th>Apertura</th>\n",
       "      <th>Máximo</th>\n",
       "      <th>Mínimo</th>\n",
       "      <th>Vol.</th>\n",
       "      <th>% var.</th>\n",
       "    </tr>\n",
       "  </thead>\n",
       "  <tbody>\n",
       "    <tr>\n",
       "      <th>0</th>\n",
       "      <td>2020-11-17</td>\n",
       "      <td>0.447</td>\n",
       "      <td>0.446</td>\n",
       "      <td>0.450</td>\n",
       "      <td>0.422</td>\n",
       "      <td>182,81M</td>\n",
       "      <td>6,75%</td>\n",
       "    </tr>\n",
       "    <tr>\n",
       "      <th>1</th>\n",
       "      <td>2020-11-16</td>\n",
       "      <td>0.419</td>\n",
       "      <td>0.363</td>\n",
       "      <td>0.420</td>\n",
       "      <td>0.363</td>\n",
       "      <td>198,98M</td>\n",
       "      <td>24,59%</td>\n",
       "    </tr>\n",
       "    <tr>\n",
       "      <th>2</th>\n",
       "      <td>2020-11-13</td>\n",
       "      <td>0.336</td>\n",
       "      <td>0.325</td>\n",
       "      <td>0.342</td>\n",
       "      <td>0.324</td>\n",
       "      <td>63,13M</td>\n",
       "      <td>2,53%</td>\n",
       "    </tr>\n",
       "    <tr>\n",
       "      <th>3</th>\n",
       "      <td>2020-11-12</td>\n",
       "      <td>0.328</td>\n",
       "      <td>0.316</td>\n",
       "      <td>0.330</td>\n",
       "      <td>0.310</td>\n",
       "      <td>66,13M</td>\n",
       "      <td>0,86%</td>\n",
       "    </tr>\n",
       "    <tr>\n",
       "      <th>4</th>\n",
       "      <td>2020-11-11</td>\n",
       "      <td>0.325</td>\n",
       "      <td>0.331</td>\n",
       "      <td>0.339</td>\n",
       "      <td>0.316</td>\n",
       "      <td>84,04M</td>\n",
       "      <td>-2,11%</td>\n",
       "    </tr>\n",
       "    <tr>\n",
       "      <th>...</th>\n",
       "      <td>...</td>\n",
       "      <td>...</td>\n",
       "      <td>...</td>\n",
       "      <td>...</td>\n",
       "      <td>...</td>\n",
       "      <td>...</td>\n",
       "      <td>...</td>\n",
       "    </tr>\n",
       "    <tr>\n",
       "      <th>1296</th>\n",
       "      <td>2015-10-23</td>\n",
       "      <td>1.840</td>\n",
       "      <td>1.917</td>\n",
       "      <td>1.926</td>\n",
       "      <td>1.823</td>\n",
       "      <td>57,48M</td>\n",
       "      <td>-1,45%</td>\n",
       "    </tr>\n",
       "    <tr>\n",
       "      <th>1297</th>\n",
       "      <td>2015-10-22</td>\n",
       "      <td>1.867</td>\n",
       "      <td>1.835</td>\n",
       "      <td>1.881</td>\n",
       "      <td>1.803</td>\n",
       "      <td>30,80M</td>\n",
       "      <td>1,80%</td>\n",
       "    </tr>\n",
       "    <tr>\n",
       "      <th>1298</th>\n",
       "      <td>2015-10-21</td>\n",
       "      <td>1.834</td>\n",
       "      <td>1.819</td>\n",
       "      <td>1.841</td>\n",
       "      <td>1.758</td>\n",
       "      <td>27,97M</td>\n",
       "      <td>1,72%</td>\n",
       "    </tr>\n",
       "    <tr>\n",
       "      <th>1299</th>\n",
       "      <td>2015-10-20</td>\n",
       "      <td>1.803</td>\n",
       "      <td>1.879</td>\n",
       "      <td>1.883</td>\n",
       "      <td>1.794</td>\n",
       "      <td>38,57M</td>\n",
       "      <td>-4,20%</td>\n",
       "    </tr>\n",
       "    <tr>\n",
       "      <th>1300</th>\n",
       "      <td>2015-10-19</td>\n",
       "      <td>1.882</td>\n",
       "      <td>1.895</td>\n",
       "      <td>1.915</td>\n",
       "      <td>1.867</td>\n",
       "      <td>17,28M</td>\n",
       "      <td>-0,95%</td>\n",
       "    </tr>\n",
       "  </tbody>\n",
       "</table>\n",
       "<p>1301 rows × 7 columns</p>\n",
       "</div>"
      ],
      "text/plain": [
       "          Fecha  Último  Apertura  Máximo  Mínimo     Vol.  % var.\n",
       "0    2020-11-17   0.447     0.446   0.450   0.422  182,81M   6,75%\n",
       "1    2020-11-16   0.419     0.363   0.420   0.363  198,98M  24,59%\n",
       "2    2020-11-13   0.336     0.325   0.342   0.324   63,13M   2,53%\n",
       "3    2020-11-12   0.328     0.316   0.330   0.310   66,13M   0,86%\n",
       "4    2020-11-11   0.325     0.331   0.339   0.316   84,04M  -2,11%\n",
       "...         ...     ...       ...     ...     ...      ...     ...\n",
       "1296 2015-10-23   1.840     1.917   1.926   1.823   57,48M  -1,45%\n",
       "1297 2015-10-22   1.867     1.835   1.881   1.803   30,80M   1,80%\n",
       "1298 2015-10-21   1.834     1.819   1.841   1.758   27,97M   1,72%\n",
       "1299 2015-10-20   1.803     1.879   1.883   1.794   38,57M  -4,20%\n",
       "1300 2015-10-19   1.882     1.895   1.915   1.867   17,28M  -0,95%\n",
       "\n",
       "[1301 rows x 7 columns]"
      ]
     },
     "execution_count": 4,
     "metadata": {},
     "output_type": "execute_result"
    }
   ],
   "source": [
    "sab"
   ]
  },
  {
   "cell_type": "code",
   "execution_count": 5,
   "metadata": {},
   "outputs": [],
   "source": [
    "sab = sab.sort_values(by=['Fecha'], ascending=True).reset_index()"
   ]
  },
  {
   "cell_type": "code",
   "execution_count": 6,
   "metadata": {},
   "outputs": [
    {
     "data": {
      "image/png": "[encoded data removed]",
      "text/plain": [
       "<Figure size 432x288 with 1 Axes>"
      ]
     },
     "metadata": {
      "needs_background": "light"
     },
     "output_type": "display_data"
    }
   ],
   "source": [
    "plt.plot(sab['Último'])\n",
    "plt.show()"
   ]
  },
  {
   "cell_type": "code",
   "execution_count": 11,
   "metadata": {},
   "outputs": [
    {
     "data": {
      "image/png": "[encoded data removed]",
      "text/plain": [
       "<Figure size 360x360 with 4 Axes>"
      ]
     },
     "metadata": {
      "needs_background": "light"
     },
     "output_type": "display_data"
    }
   ],
   "source": [
    "add = seasonal_decompose(sab['Último'], model='multiplicative', freq=3)\n",
    "plt.rcParams.update({'figure.figsize': (5,5)})\n",
    "add.plot()\n",
    "plt.show()"
   ]
  },
  {
   "cell_type": "code",
   "execution_count": null,
   "metadata": {},
   "outputs": [],
   "source": []
  },
  {
   "cell_type": "code",
   "execution_count": null,
   "metadata": {},
   "outputs": [],
   "source": []
  }
 ],
 "metadata": {
  "kernelspec": {
   "display_name": "Python 3",
   "language": "python",
   "name": "python3"
  },
  "language_info": {
   "codemirror_mode": {
    "name": "ipython",
    "version": 3
   },
   "file_extension": ".py",
   "mimetype": "text/x-python",
   "name": "python",
   "nbconvert_exporter": "python",
   "pygments_lexer": "ipython3",
   "version": "3.8.5"
  }
 },
 "nbformat": 4,
 "nbformat_minor": 4
}
